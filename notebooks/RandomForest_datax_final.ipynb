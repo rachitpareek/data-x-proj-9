{
 "cells": [
  {
   "cell_type": "code",
   "execution_count": 1,
   "metadata": {},
   "outputs": [
    {
     "name": "stderr",
     "output_type": "stream",
     "text": [
      "[nltk_data] Downloading package averaged_perceptron_tagger to\n",
      "[nltk_data]     C:\\Users\\vishn\\AppData\\Roaming\\nltk_data...\n",
      "[nltk_data]   Package averaged_perceptron_tagger is already up-to-\n",
      "[nltk_data]       date!\n",
      "[nltk_data] Downloading package wordnet to\n",
      "[nltk_data]     C:\\Users\\vishn\\AppData\\Roaming\\nltk_data...\n",
      "[nltk_data]   Package wordnet is already up-to-date!\n",
      "[nltk_data] Downloading package stopwords to\n",
      "[nltk_data]     C:\\Users\\vishn\\AppData\\Roaming\\nltk_data...\n",
      "[nltk_data]   Package stopwords is already up-to-date!\n",
      "[nltk_data] Downloading package punkt to\n",
      "[nltk_data]     C:\\Users\\vishn\\AppData\\Roaming\\nltk_data...\n",
      "[nltk_data]   Package punkt is already up-to-date!\n"
     ]
    }
   ],
   "source": [
    "# import Beautiful Soup, NumPy and Pandas, etc\n",
    "import bs4 as bs\n",
    "import numpy as np\n",
    "import pandas as pd\n",
    "import re\n",
    "import hashlib\n",
    "\n",
    "from matplotlib import pyplot as plt\n",
    " \n",
    "# download NLTK classifiers - these are cached locally on your machine\n",
    "import nltk\n",
    "nltk.download('averaged_perceptron_tagger')\n",
    "nltk.download('wordnet')\n",
    "nltk.download('stopwords')\n",
    "nltk.download('punkt')\n",
    "\n",
    "# import ml classifiers\n",
    "from nltk.tokenize import sent_tokenize # tokenizes sentences\n",
    "from nltk.stem import PorterStemmer     # parsing/stemmer\n",
    "from nltk.tag import pos_tag            # parts-of-speech tagging\n",
    "from nltk.corpus import wordnet         # sentiment scores\n",
    "from nltk.stem import WordNetLemmatizer # stem and context\n",
    "from nltk.corpus import stopwords       # stopwords\n",
    "from nltk.util import ngrams            # ngram iterator\n",
    "\n",
    "\n",
    "# import sklearn\n",
    "from sklearn import metrics\n",
    "from sklearn.metrics import confusion_matrix\n",
    "from sklearn.ensemble import RandomForestClassifier\n",
    "from sklearn.model_selection import train_test_split\n",
    "from sklearn.preprocessing import normalize, FunctionTransformer\n",
    "from sklearn.feature_extraction.text import CountVectorizer"
   ]
  },
  {
   "cell_type": "code",
   "execution_count": 2,
   "metadata": {},
   "outputs": [],
   "source": [
    "train = pd.read_csv(\"news_sample.csv\").iloc[:,[3,5]].dropna().reset_index(drop=True)"
   ]
  },
  {
   "cell_type": "code",
   "execution_count": 3,
   "metadata": {},
   "outputs": [
    {
     "data": {
      "text/plain": [
       "Index(['type', 'content'], dtype='object')"
      ]
     },
     "execution_count": 3,
     "metadata": {},
     "output_type": "execute_result"
    }
   ],
   "source": [
    "train.columns"
   ]
  },
  {
   "cell_type": "code",
   "execution_count": 4,
   "metadata": {},
   "outputs": [],
   "source": [
    "ps = PorterStemmer()\n",
    "wnl = WordNetLemmatizer()\n",
    "eng_stopwords = set(stopwords.words(\"english\"))\n",
    "\n",
    "\n",
    "def article_cleaner(article, lemmatize=True, stem=False):\n",
    "\n",
    "    #1. Remove HTML tags\n",
    "    review = bs.BeautifulSoup(article,features='lxml').text\n",
    "\n",
    "    #2. Use regex to find emoticons\n",
    "    emoticons = re.findall('(?::|;|=)(?:-)?(?:\\)|\\(|D|P)', article)\n",
    "\n",
    "    #3. Remove punctuation\n",
    "    article = re.sub(\"[^a-zA-Z]\", \" \",article)\n",
    "\n",
    "    #4. Tokenize into words (all lower case)\n",
    "    article_words = (str.lower(article.replace('.','. '))).split()\n",
    "\n",
    "    #5. Remove stopwords, Lemmatize, Stem\n",
    "    ### YOUR CODE HERE ##\n",
    "        \n",
    "    article_wo_stopwords = [w for w in article_words if not w in eng_stopwords]\n",
    "    \n",
    "    token_tag = pos_tag(article_wo_stopwords)\n",
    "     \n",
    "    def get_wordnet_pos(treebank_tag):\n",
    "\n",
    "        if treebank_tag.startswith('J'):\n",
    "            return wordnet.ADJ\n",
    "        elif treebank_tag.startswith('V'):\n",
    "            return wordnet.VERB\n",
    "        elif treebank_tag.startswith('N'):\n",
    "            return wordnet.NOUN\n",
    "        elif treebank_tag.startswith('R'):\n",
    "            return wordnet.ADV\n",
    "        else:\n",
    "            return 'n'\n",
    "    \n",
    "    wnl_stems = []\n",
    "    \n",
    "    for pair in token_tag:\n",
    "        res = wnl.lemmatize(pair[0],pos=get_wordnet_pos(pair[1]))\n",
    "        wnl_stems.append(res)\n",
    "    \n",
    "    for i in emoticons:\n",
    "        wnl_stems.append(i)\n",
    "    \n",
    "    #6. Join the review to one sentence\n",
    "    article_processed = ' '.join(wnl_stems)\n",
    "    \n",
    "    return article_processed"
   ]
  },
  {
   "cell_type": "code",
   "execution_count": 13,
   "metadata": {},
   "outputs": [],
   "source": [
    "def get_vectorizer(ngram, max_features):\n",
    "    return CountVectorizer(ngram_range=(1, ngram),\n",
    "                             analyzer = \"word\",\n",
    "                             tokenizer = None,\n",
    "                             preprocessor = article_cleaner,\n",
    "                             stop_words = None, \n",
    "                             max_features = max_features)\n",
    "\n",
    "vectorizer = get_vectorizer(ngram=1, max_features=400)"
   ]
  },
  {
   "cell_type": "code",
   "execution_count": 7,
   "metadata": {},
   "outputs": [],
   "source": [
    "y=train[\"type\"] \n",
    "ngram=1\n",
    "max_features=1000 \n",
    "model_random_state=0"
   ]
  },
  {
   "cell_type": "code",
   "execution_count": 14,
   "metadata": {},
   "outputs": [],
   "source": [
    "articles=train['content'] \n",
    "\n",
    "# train / test split\n",
    "X_train, X_test, y_train, y_test = train_test_split(articles, y, random_state=0, test_size=.2)\n",
    "\n",
    "# Then we use fit_transform() to fit the model / learn the vocabulary,\n",
    "# then transform the data into feature vectors.\n",
    "\n",
    "train_bag = vectorizer.fit_transform(X_train)\n",
    "if not isinstance(train_bag, np.ndarray):\n",
    "    train_bag = train_bag.toarray()\n",
    "test_bag = vectorizer.transform(X_test)\n",
    "if not isinstance(test_bag, np.ndarray):\n",
    "    test_bag = test_bag.toarray()"
   ]
  },
  {
   "cell_type": "code",
   "execution_count": 15,
   "metadata": {},
   "outputs": [
    {
     "name": "stdout",
     "output_type": "stream",
     "text": [
      "Training the random forest classifier!\n",
      "\n",
      " The training accuracy is:  0.968421052631579 \n",
      " The validation accuracy is:  0.875\n",
      "\n",
      "CONFUSION MATRIX:\n",
      "         Predicted\n",
      "          neg pos\n",
      " Actual\n",
      "     neg   [0 1 0 0 0 0 0 0]\n",
      "     pos   [0 5 0 0 0 0 0 0]\n"
     ]
    }
   ],
   "source": [
    "print(\"Training the random forest classifier!\\n\")\n",
    "\n",
    "# Initialize a Random Forest classifier with 50 trees\n",
    "forest = RandomForestClassifier(max_features=55, n_estimators = 100, max_depth = 6 , random_state = model_random_state) \n",
    "\n",
    "# Fit the forest to the training set, using the bag of words as \n",
    "# features and the sentiment labels as the target variable\n",
    "forest = forest.fit(train_bag, y_train)\n",
    "\n",
    "# predict\n",
    "train_predictions = forest.predict(train_bag)\n",
    "test_predictions = forest.predict(test_bag)\n",
    "\n",
    "# validation\n",
    "train_acc = metrics.accuracy_score(y_train, train_predictions)\n",
    "valid_acc = metrics.accuracy_score(y_test, test_predictions)\n",
    "\n",
    "print(\" The training accuracy is: \", train_acc, \"\\n\", \"The validation accuracy is: \", valid_acc)\n",
    "print()\n",
    "print('CONFUSION MATRIX:')\n",
    "print('         Predicted')\n",
    "print('          neg pos')\n",
    "print(' Actual')\n",
    "c=confusion_matrix(y_test, test_predictions)\n",
    "print('     neg  ',c[0])\n",
    "print('     pos  ',c[1])\n",
    "\n"
   ]
  },
  {
   "cell_type": "code",
   "execution_count": 16,
   "metadata": {},
   "outputs": [
    {
     "name": "stdout",
     "output_type": "stream",
     "text": [
      "['fake']\n"
     ]
    }
   ],
   "source": [
    "inp = \"Space lasers cause forest fires\"\n",
    "output = forest.predict(vectorizer.transform([inp]))\n",
    "print(output)"
   ]
  },
  {
   "cell_type": "code",
   "execution_count": 11,
   "metadata": {},
   "outputs": [],
   "source": [
    "import pickle"
   ]
  },
  {
   "cell_type": "code",
   "execution_count": 22,
   "metadata": {},
   "outputs": [],
   "source": [
    "pkl_filename = \"random_forest_cv_model.pkl\"\n",
    "with open(pkl_filename, 'wb') as file:\n",
    "    pickle.dump(forest, file)"
   ]
  },
  {
   "cell_type": "code",
   "execution_count": 21,
   "metadata": {},
   "outputs": [],
   "source": [
    "pkl_filename2 = \"count_vectorizer.pkl\"\n",
    "with open(pkl_filename2, 'wb') as file:\n",
    "    pickle.dump(vectorizer, file)"
   ]
  }
 ],
 "metadata": {
  "kernelspec": {
   "display_name": "Python 3",
   "language": "python",
   "name": "python3"
  },
  "language_info": {
   "codemirror_mode": {
    "name": "ipython",
    "version": 3
   },
   "file_extension": ".py",
   "mimetype": "text/x-python",
   "name": "python",
   "nbconvert_exporter": "python",
   "pygments_lexer": "ipython3",
   "version": "3.8.5"
  }
 },
 "nbformat": 4,
 "nbformat_minor": 4
}
